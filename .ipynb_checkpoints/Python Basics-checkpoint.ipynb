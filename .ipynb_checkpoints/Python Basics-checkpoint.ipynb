{
 "cells": [
  {
   "cell_type": "markdown",
   "id": "66458fa1",
   "metadata": {},
   "source": [
    "# Factorial"
   ]
  },
  {
   "cell_type": "code",
   "execution_count": 1,
   "id": "1b5612f4",
   "metadata": {},
   "outputs": [
    {
     "name": "stdout",
     "output_type": "stream",
     "text": [
      "The factorial of 5 is: 120\n"
     ]
    }
   ],
   "source": [
    "    def factorial(n):\n",
    "        if n < 0:\n",
    "            return \"Factorial is not defined \"\n",
    "        elif n == 0 or n == 1:\n",
    "            return 1\n",
    "        else:\n",
    "            return n * factorial(n - 1)\n",
    "\n",
    "    n = 5  \n",
    "    result = factorial(n)\n",
    "    print(f\"The factorial of {n} is: {result}\")"
   ]
  },
  {
   "cell_type": "markdown",
   "id": "26eb620a",
   "metadata": {},
   "source": [
    "# Lambda Function"
   ]
  },
  {
   "cell_type": "code",
   "execution_count": 2,
   "id": "4d74505a",
   "metadata": {},
   "outputs": [],
   "source": [
    "y = lambda x,z :(x-1)*z"
   ]
  },
  {
   "cell_type": "code",
   "execution_count": 3,
   "id": "241872ef",
   "metadata": {},
   "outputs": [
    {
     "data": {
      "text/plain": [
       "3"
      ]
     },
     "execution_count": 3,
     "metadata": {},
     "output_type": "execute_result"
    }
   ],
   "source": [
    "y(2,3)"
   ]
  },
  {
   "cell_type": "markdown",
   "id": "060ba1f4",
   "metadata": {},
   "source": [
    "# list,tuple,set,dictionary"
   ]
  },
  {
   "cell_type": "code",
   "execution_count": 4,
   "id": "617530bb",
   "metadata": {},
   "outputs": [],
   "source": [
    "list1=[1,1,2,3,\"Hello\",\"hi\",\"Bye\"]\n",
    "tuple1=(1,1,2,3,\"Hello\",\"hi\",\"Bye\")\n",
    "set1={1,1,2,3,\"Hello\",\"hi\",\"Bye\"}\n",
    "dict1={\"a\":1,\"b\":1,\"c\":2,\"d\":3,\"e\":\"hello\",\"f\":\"hi\",\"g\":\"bye\"}"
   ]
  },
  {
   "cell_type": "code",
   "execution_count": 5,
   "id": "ab885952",
   "metadata": {},
   "outputs": [
    {
     "name": "stdout",
     "output_type": "stream",
     "text": [
      "[1, 4, 2, 3, 'Hello', 'hi', 'Bye']\n"
     ]
    }
   ],
   "source": [
    "list1[1]=4\n",
    "print(list1)\n"
   ]
  },
  {
   "cell_type": "code",
   "execution_count": 6,
   "id": "35439602",
   "metadata": {},
   "outputs": [
    {
     "name": "stdout",
     "output_type": "stream",
     "text": [
      "(1, 1, 2, 3, 'Hello', 'hi', 'Bye')\n"
     ]
    }
   ],
   "source": [
    "print(tuple1)"
   ]
  },
  {
   "cell_type": "code",
   "execution_count": 7,
   "id": "7fbacbcd",
   "metadata": {},
   "outputs": [
    {
     "name": "stdout",
     "output_type": "stream",
     "text": [
      "{1, 2, 3, 'Bye', 'hi', 'Hello'}\n"
     ]
    }
   ],
   "source": [
    "print(set1)"
   ]
  },
  {
   "cell_type": "code",
   "execution_count": 8,
   "id": "a4323839",
   "metadata": {},
   "outputs": [
    {
     "data": {
      "text/plain": [
       "'bye'"
      ]
     },
     "execution_count": 8,
     "metadata": {},
     "output_type": "execute_result"
    }
   ],
   "source": [
    "dict1[\"g\"]"
   ]
  },
  {
   "cell_type": "code",
   "execution_count": 9,
   "id": "eed54cf5",
   "metadata": {},
   "outputs": [],
   "source": [
    "student_details_list=[\"sakthi\",\"cse\",\"19\"]\n",
    "student_details_dict={\"name\":\"sakthi\",\"branch\":\"cse\",\"age\":\"19\"}"
   ]
  },
  {
   "cell_type": "code",
   "execution_count": 10,
   "id": "baae19a5",
   "metadata": {},
   "outputs": [
    {
     "data": {
      "text/plain": [
       "'sakthi'"
      ]
     },
     "execution_count": 10,
     "metadata": {},
     "output_type": "execute_result"
    }
   ],
   "source": [
    "student_details_dict[\"name\"]"
   ]
  },
  {
   "cell_type": "markdown",
   "id": "5759e628",
   "metadata": {},
   "source": [
    "# List and Slicing "
   ]
  },
  {
   "cell_type": "code",
   "execution_count": 11,
   "id": "602406f5",
   "metadata": {},
   "outputs": [],
   "source": [
    "student_details_list=[\"sakthi\",\"cse\",\"19\",\"vaigai\",\"50\"]"
   ]
  },
  {
   "cell_type": "code",
   "execution_count": 12,
   "id": "b19424a6",
   "metadata": {},
   "outputs": [
    {
     "data": {
      "text/plain": [
       "['cse', '19']"
      ]
     },
     "execution_count": 12,
     "metadata": {},
     "output_type": "execute_result"
    }
   ],
   "source": [
    "student_details_list[1:3]"
   ]
  },
  {
   "cell_type": "code",
   "execution_count": 13,
   "id": "e1b4764d",
   "metadata": {},
   "outputs": [],
   "source": [
    "y = \"Sakthi\""
   ]
  },
  {
   "cell_type": "code",
   "execution_count": 14,
   "id": "bc9cdd92",
   "metadata": {},
   "outputs": [
    {
     "data": {
      "text/plain": [
       "'Sakthi'"
      ]
     },
     "execution_count": 14,
     "metadata": {},
     "output_type": "execute_result"
    }
   ],
   "source": [
    "y[0:]"
   ]
  },
  {
   "cell_type": "markdown",
   "id": "91f237ff",
   "metadata": {},
   "source": [
    "# Type Casting"
   ]
  },
  {
   "cell_type": "code",
   "execution_count": null,
   "id": "1075764d",
   "metadata": {},
   "outputs": [],
   "source": [
    "birth_year = int(input(\"Enter your birth year: \"))\n",
    "current_year = 2023  \n",
    "age=current_year-birth_year\n",
    "print(age)"
   ]
  },
  {
   "cell_type": "markdown",
   "id": "ba037023",
   "metadata": {},
   "source": [
    "# Advanced Calculate Age"
   ]
  },
  {
   "cell_type": "code",
   "execution_count": null,
   "id": "a52c77e3",
   "metadata": {},
   "outputs": [],
   "source": [
    "    from datetime import datetime\n",
    "    def calculate_age(birth_date):\n",
    "        current_date = datetime.now()\n",
    "\n",
    "        age = current_date - birth_date\n",
    "        years = age.days // 365\n",
    "        remaining_days = age.days % 365\n",
    "        months = remaining_days // 30\n",
    "        days = remaining_days % 30\n",
    "\n",
    "        return years, months, days\n",
    "    year = int(input(\"Enter the year of birth (YYYY): \"))\n",
    "    month = int(input(\"Enter the month of birth (MM): \"))\n",
    "    day = int(input(\"Enter the day of birth (DD): \"))\n",
    "\n",
    "    birth_date = datetime(year, month, day)\n",
    "    years, months, days = calculate_age(birth_date)\n",
    "\n",
    "    print(f\"You are {years} years, {months} months, and {days} days old.\")\n"
   ]
  },
  {
   "cell_type": "code",
   "execution_count": null,
   "id": "ba92d209",
   "metadata": {},
   "outputs": [],
   "source": [
    "def calculate_age():\n",
    "    dob = input(\"Enter Your DOB\")\n",
    "    yob=dob[4:8]\n",
    "    mob=dob[2:4]\n",
    "    day_b = dob[0:3]\n",
    "    yob = int(yob)\n",
    "    mob  = int(mob)\n",
    "    day_b = int(day_b)\n",
    "    \n",
    "    birth_days = 365*yob + 30*mob+ day_b\n",
    "    current_days = 365*2023 + 30*10+28\n",
    "    age_days = current_days - birth_days\n",
    "    age_year = age_days//365\n",
    "    remainder_days = age_days%365\n",
    "    age_month = remainder_days%30\n",
    "    age_days = remainder_days%30\n",
    "    print(f\"The age is {age_year} year,{age_month},month,{age_days}days\")\n",
    "calculate_age()"
   ]
  },
  {
   "cell_type": "markdown",
   "id": "9f7f33ed",
   "metadata": {},
   "source": [
    "# Email Check"
   ]
  },
  {
   "cell_type": "code",
   "execution_count": null,
   "id": "ac8a7138",
   "metadata": {},
   "outputs": [],
   "source": [
    "def mail_check():\n",
    "    mail = input(\"Enter Your Email:\")\n",
    "    if \"@\" and \".\" in mail:\n",
    "        print(\"Valid Email\")\n",
    "    else:\n",
    "        print(\"Invalid Email\")\n",
    "mail_check()"
   ]
  },
  {
   "cell_type": "markdown",
   "id": "a81cb453",
   "metadata": {},
   "source": [
    "# String Formatting"
   ]
  },
  {
   "cell_type": "code",
   "execution_count": null,
   "id": "b19673a2",
   "metadata": {},
   "outputs": [],
   "source": [
    "String1=\"{} {} {}\".format('Python','Programming','Language')\n",
    "print(\"Print String In default Order:\")\n",
    "print(String1)"
   ]
  },
  {
   "cell_type": "markdown",
   "id": "03dabc0c",
   "metadata": {},
   "source": [
    "# Exceptional Handling"
   ]
  },
  {
   "cell_type": "code",
   "execution_count": 3,
   "id": "1ac1e772",
   "metadata": {},
   "outputs": [],
   "source": [
    "def division(a,b):\n",
    "    try:\n",
    "        result =a/b\n",
    "        print(result)\n",
    "    except:\n",
    "        print(\"Not Able To Divide\")"
   ]
  },
  {
   "cell_type": "code",
   "execution_count": 4,
   "id": "9746e169",
   "metadata": {},
   "outputs": [
    {
     "name": "stdout",
     "output_type": "stream",
     "text": [
      "Not Able To Divide\n"
     ]
    }
   ],
   "source": [
    "division(10,0)"
   ]
  },
  {
   "cell_type": "code",
   "execution_count": 1,
   "id": "03b154b3",
   "metadata": {},
   "outputs": [],
   "source": [
    "def division(a,b):\n",
    "    try:\n",
    "        result = a/b\n",
    "        print(result)\n",
    "    except ZeroDivisiorError:\n",
    "        print(\"Can't Divide With Zero\")\n",
    "    except:\n",
    "        print(\"Not Able To Divide\")\n",
    "    else:\n",
    "        print(result)\n",
    "    "
   ]
  },
  {
   "cell_type": "code",
   "execution_count": 2,
   "id": "c470af08",
   "metadata": {},
   "outputs": [
    {
     "name": "stdout",
     "output_type": "stream",
     "text": [
      "1.0\n",
      "1.0\n"
     ]
    }
   ],
   "source": [
    "division(10,10)"
   ]
  },
  {
   "cell_type": "markdown",
   "id": "bb56d5b6",
   "metadata": {},
   "source": [
    "# variable vs properties  vs functions vs method"
   ]
  },
  {
   "cell_type": "code",
   "execution_count": 9,
   "id": "9034781b",
   "metadata": {},
   "outputs": [],
   "source": [
    "# Create Variable For Student with name Sakthi\n",
    "\n",
    "name  = \"Sakthi\"\n",
    "roll_no = 50\n",
    "branch = \"Cse\"\n",
    "paid_amount = 1200000\n",
    "\n",
    "# Create Some Function For The Student\n",
    "\n",
    "def get_name_roll():\n",
    "    print(f\"The Name of The Student is{name} and his/her Roll no is {roll_no}\")\n",
    "    \n",
    "def get_summary():\n",
    "    print(f\"The Student Name is {name} an roll no is{roll_no} \\n he is from {branch} and his paid amount is {paid_amount}\")\n"
   ]
  },
  {
   "cell_type": "code",
   "execution_count": 10,
   "id": "d0a44f3c",
   "metadata": {},
   "outputs": [
    {
     "name": "stdout",
     "output_type": "stream",
     "text": [
      "The Name of The Student isSakthi and his/her Roll no is 50\n"
     ]
    }
   ],
   "source": [
    "get_name_roll()"
   ]
  },
  {
   "cell_type": "code",
   "execution_count": 12,
   "id": "3f269944",
   "metadata": {},
   "outputs": [
    {
     "name": "stdout",
     "output_type": "stream",
     "text": [
      "The Student Name is Sakthi an roll no is50 \n",
      " he is from Cse and his paid amount is 1200000\n"
     ]
    }
   ],
   "source": [
    "get_summary()"
   ]
  },
  {
   "cell_type": "code",
   "execution_count": 21,
   "id": "c497bd2a",
   "metadata": {},
   "outputs": [],
   "source": [
    "# Create a Class  For Student \n",
    "class student:\n",
    "    def __init__(self):\n",
    "        self.name = \"Sakthi\"\n",
    "        self.roll_no = 50\n",
    "        self.branch = \"cse\"\n",
    "        self.paid_amount  = 120000\n",
    "    def get_name_roll():\n",
    "        print(f\"The Name of The Student is{name} and his/her Roll no is {roll_no}\")\n",
    "    \n",
    "    def get_summary():\n",
    "        print(f\"The Student Name is {name} an roll no is{roll_no} \\n he is from {branch} and his paid amount is {paid_amount}\")\n"
   ]
  },
  {
   "cell_type": "code",
   "execution_count": 23,
   "id": "64092c6d",
   "metadata": {},
   "outputs": [],
   "source": [
    "student1 = student"
   ]
  },
  {
   "cell_type": "code",
   "execution_count": 24,
   "id": "2f98b918",
   "metadata": {},
   "outputs": [
    {
     "name": "stdout",
     "output_type": "stream",
     "text": [
      "The Student Name is Sakthi an roll no is50 \n",
      " he is from Cse and his paid amount is 1200000\n"
     ]
    }
   ],
   "source": [
    "student1.get_summary()"
   ]
  },
  {
   "cell_type": "markdown",
   "id": "19998b01",
   "metadata": {},
   "source": [
    "# Inheritance "
   ]
  },
  {
   "cell_type": "code",
   "execution_count": 39,
   "id": "49070b45",
   "metadata": {},
   "outputs": [],
   "source": [
    "class teacher:\n",
    "    def __init__(self,name,id_no,DOB,mobile_no,dept):\n",
    "        self.name = name\n",
    "        self.id_no = id_no\n",
    "        self.DOB = DOB\n",
    "        self.mobile_no = mobile_no\n",
    "        self.dept = dept\n",
    "        \n",
    "    def get_summary(self):\n",
    "        print(f\"The Name of the Person is {self.name} and id is{self.id_no}and the DOB is {self.DOB},mobile number is {self.mobile_no} and \\ndepartment is {self.dept}.\") \n",
    "    \n",
    "class non_teacher:\n",
    "    def __init__(self,name,id_no,DOB,mobile_no):\n",
    "        self.name = name\n",
    "        self.id_no = id_no\n",
    "        self.DOB = DOB\n",
    "        self.mobile_no = mobile_no\n",
    "        \n",
    "    def get_summary(self):\n",
    "        print(f\"The Name of the Person is {self.name} and id is{self.id_no}and the DOB is {self.DOB},mobile number is {self.mobile_no}.\") \n",
    " \n",
    "    \n",
    "class student:\n",
    "    def __init__(self,name,id_no,DOB,mobile_no,dept,paid_amount,passing_year):\n",
    "        self.name = name\n",
    "        self.id_no = id_no\n",
    "        self.DOB = DOB\n",
    "        self.mobile_no = mobile_no\n",
    "        self.dept = dept\n",
    "        self.paid_amount = paid_amount\n",
    "        self.passing_year = passing_year\n",
    "        \n",
    "    def get_summary(self):\n",
    "        print(f\"The Name of the Person is {self.name} and id is{self.id_no}and the DOB is {self.DOB},mobile number is {self.mobile_no} and \\ndepartment is {self.dept},paid amount is{self.paid_amount} andthe passing year {self.passing_year}.\") \n",
    "    "
   ]
  },
  {
   "cell_type": "code",
   "execution_count": 41,
   "id": "2527fc4f",
   "metadata": {},
   "outputs": [
    {
     "ename": "IndentationError",
     "evalue": "unindent does not match any outer indentation level (<tokenize>, line 7)",
     "output_type": "error",
     "traceback": [
      "\u001b[1;36m  File \u001b[1;32m<tokenize>:7\u001b[1;36m\u001b[0m\n\u001b[1;33m    def get_summary(self):\u001b[0m\n\u001b[1;37m    ^\u001b[0m\n\u001b[1;31mIndentationError\u001b[0m\u001b[1;31m:\u001b[0m unindent does not match any outer indentation level\n"
     ]
    }
   ],
   "source": [
    "class person:\n",
    "     def __init__(self,name,id_no,DOB,mobile_no):\n",
    "        self.name = name\n",
    "        self.id_no = id_no\n",
    "        self.DOB = DOB\n",
    "        self.mobile_no = mobile_no\n",
    "    def get_summary(self):\n",
    "        print(f\"The name of the Person is {self.name} and id is{self.id} \\n and DoB is {self.DOB},mobile number is {self.mobile_no}\")\n",
    "\n",
    "class teacher(person):\n",
    "    def __init__(self,name,dept,id_no,DOB,mobile_no):\n",
    "        super().__init__(name,id_no,DOB,mobile_no,)\n",
    "        self.dept = dept\n",
    "\n",
    "class non_teacher(person):\n",
    "    def __init__(self,name,id_no,DOB,mobile_no):\n",
    "        super().__init__(name,id_no,DOB,mobile_no)\n",
    "        \n",
    "class student(teacher):\n",
    "    def __init__(self,name,id_no,DOB,mobile_no,dept,paid_amount,passing_year):\n",
    "        super().__init__(name,id_no,DOB,mobile_no,dept)\n",
    "        self.paid_amount = paid_amount\n",
    "        self.passing_year = passing_year"
   ]
  },
  {
   "cell_type": "code",
   "execution_count": 42,
   "id": "d8dcbbf8",
   "metadata": {},
   "outputs": [],
   "source": [
    "teacher1 = teacher(\"sakthi\",50,27042004,8148043523,\"cse\")\n",
    "student1 = student(\"Asif\",30,7032004,8124773696,\"cse\",10000,2025)"
   ]
  },
  {
   "cell_type": "code",
   "execution_count": 44,
   "id": "29bd9d42",
   "metadata": {},
   "outputs": [
    {
     "name": "stdout",
     "output_type": "stream",
     "text": [
      "The Name of the Person is sakthi and id is50and the DOB is 27042004,mobile number is 8148043523 and \n",
      "department is cse.\n"
     ]
    }
   ],
   "source": [
    "teacher1.get_summary()"
   ]
  },
  {
   "cell_type": "code",
   "execution_count": null,
   "id": "727af4f4",
   "metadata": {},
   "outputs": [],
   "source": []
  },
  {
   "cell_type": "code",
   "execution_count": null,
   "id": "682876f5",
   "metadata": {},
   "outputs": [],
   "source": []
  }
 ],
 "metadata": {
  "kernelspec": {
   "display_name": "Python 3 (ipykernel)",
   "language": "python",
   "name": "python3"
  },
  "language_info": {
   "codemirror_mode": {
    "name": "ipython",
    "version": 3
   },
   "file_extension": ".py",
   "mimetype": "text/x-python",
   "name": "python",
   "nbconvert_exporter": "python",
   "pygments_lexer": "ipython3",
   "version": "3.11.5"
  }
 },
 "nbformat": 4,
 "nbformat_minor": 5
}
