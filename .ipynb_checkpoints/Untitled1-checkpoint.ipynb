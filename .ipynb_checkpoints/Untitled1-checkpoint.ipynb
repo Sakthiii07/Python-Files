{
 "cells": [
  {
   "cell_type": "markdown",
   "id": "22187967",
   "metadata": {},
   "source": [
    "# OOPs Concept"
   ]
  },
  {
   "cell_type": "code",
   "execution_count": 1,
   "id": "4940e16c",
   "metadata": {},
   "outputs": [],
   "source": [
    "student_names = [] \n",
    "roll_nums = []\n",
    "branches= []\n",
    "paid_amounts = []    "
   ]
  },
  {
   "cell_type": "code",
   "execution_count": 2,
   "id": "671ebc4d",
   "metadata": {},
   "outputs": [],
   "source": [
    "def create_student(name,roll_no,branch,paid_amount):\n",
    "    student_names.append(name)\n",
    "    roll_nums.append(roll_no)\n",
    "    branches.append(branch)\n",
    "    paid_amounts.append(paid_amount)\n",
    "    \n"
   ]
  },
  {
   "cell_type": "code",
   "execution_count": 3,
   "id": "1ab13f61",
   "metadata": {},
   "outputs": [],
   "source": [
    "create_student(\"sakthi\",50,\"Cse\",\"1L\")"
   ]
  },
  {
   "cell_type": "code",
   "execution_count": 4,
   "id": "962ca515",
   "metadata": {},
   "outputs": [
    {
     "name": "stdout",
     "output_type": "stream",
     "text": [
      "['sakthi'] \n",
      " [50] \n",
      " ['Cse'] \n",
      " ['1L']\n"
     ]
    }
   ],
   "source": [
    "print(student_names,\"\\n\",roll_nums,\"\\n\",branches,\"\\n\",paid_amounts)"
   ]
  },
  {
   "cell_type": "code",
   "execution_count": 5,
   "id": "f7839ae9",
   "metadata": {},
   "outputs": [],
   "source": [
    "class student:\n",
    "    def __init__(self,name,roll_no,branch,paid_amount):\n",
    "        self.name = name\n",
    "        self.roll_no = roll_no\n",
    "        self.branch = branch\n",
    "        self.paid_amount = paid_amount\n",
    "        \n",
    "    def get_summary(self):\n",
    "        print(f\"The Name of The Student Is {self.name} \\n His Roll Number Is {self.roll_no} \\n He Belongs to {self.branch} \\n branch and has Paid amount is  Rs.{self.paid_amount}.\")"
   ]
  },
  {
   "cell_type": "code",
   "execution_count": 6,
   "id": "49c3ef43",
   "metadata": {},
   "outputs": [],
   "source": [
    "Sakthi = student(\"Sakthi\",50,\"Cse\",100000)"
   ]
  },
  {
   "cell_type": "code",
   "execution_count": 7,
   "id": "f39627a9",
   "metadata": {},
   "outputs": [
    {
     "name": "stdout",
     "output_type": "stream",
     "text": [
      "The Name of The Student Is Sakthi \n",
      " His Roll Number Is 50 \n",
      " He Belongs to Cse \n",
      " branch and has Paid amount is  Rs.101200.\n"
     ]
    }
   ],
   "source": [
    "Sakthi.paid_amount = Sakthi.paid_amount + 1200\n",
    "Sakthi.get_summary()"
   ]
  },
  {
   "cell_type": "code",
   "execution_count": 8,
   "id": "3e3d62d6",
   "metadata": {},
   "outputs": [
    {
     "name": "stdout",
     "output_type": "stream",
     "text": [
      "Sakthi\n",
      "50\n",
      "Cse\n",
      "101200\n"
     ]
    }
   ],
   "source": [
    "print(Sakthi.name)\n",
    "print(Sakthi.roll_no)\n",
    "print(Sakthi.branch)\n",
    "print(Sakthi.paid_amount)"
   ]
  },
  {
   "cell_type": "code",
   "execution_count": 9,
   "id": "77cc885d",
   "metadata": {},
   "outputs": [],
   "source": [
    "# Create Variable For Student with name Sakthi\n",
    "\n",
    "name  = \"Sakthi\"\n",
    "roll_no = 50\n",
    "branch = \"Cse\"\n",
    "paid_amounts = 1200000\n",
    "\n",
    "# Create Some Function For The Student\n",
    "\n",
    "def get_name_roll():\n",
    "    print(f\"The Name of The Student is{name} and his/her Roll no is {roll_no}\")\n",
    "    \n",
    "def get_summary():\n",
    "    print(f\"The Student Name is {name} an roll no is{roll_no} \\n he is from {branch} and his paid amount is {paid_amount}\")\n",
    "    "
   ]
  },
  {
   "cell_type": "code",
   "execution_count": null,
   "id": "247f2890",
   "metadata": {},
   "outputs": [],
   "source": []
  }
 ],
 "metadata": {
  "kernelspec": {
   "display_name": "Python 3 (ipykernel)",
   "language": "python",
   "name": "python3"
  },
  "language_info": {
   "codemirror_mode": {
    "name": "ipython",
    "version": 3
   },
   "file_extension": ".py",
   "mimetype": "text/x-python",
   "name": "python",
   "nbconvert_exporter": "python",
   "pygments_lexer": "ipython3",
   "version": "3.11.5"
  }
 },
 "nbformat": 4,
 "nbformat_minor": 5
}
